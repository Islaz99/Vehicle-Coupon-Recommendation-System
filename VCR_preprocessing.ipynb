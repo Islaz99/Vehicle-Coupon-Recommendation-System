{
 "cells": [
  {
   "cell_type": "markdown",
   "id": "b0b577db",
   "metadata": {},
   "source": [
    "# <center> Vehicle Coupon Recommendation\n",
    "\n",
    "## <center> Preprocessing"
   ]
  },
  {
   "cell_type": "markdown",
   "id": "04ac104f",
   "metadata": {},
   "source": [
    "Data Source: https://archive.ics.uci.edu/ml/datasets/in-vehicle+coupon+recommendation"
   ]
  },
  {
   "cell_type": "code",
   "execution_count": 19,
   "id": "4f215104",
   "metadata": {},
   "outputs": [],
   "source": [
    "import numpy as np\n",
    "import pandas as pd\n",
    "import matplotlib.pyplot as plt\n",
    "%matplotlib inline"
   ]
  },
  {
   "cell_type": "code",
   "execution_count": 20,
   "id": "fbe46df3",
   "metadata": {},
   "outputs": [
    {
     "data": {
      "text/html": [
       "<div>\n",
       "<style scoped>\n",
       "    .dataframe tbody tr th:only-of-type {\n",
       "        vertical-align: middle;\n",
       "    }\n",
       "\n",
       "    .dataframe tbody tr th {\n",
       "        vertical-align: top;\n",
       "    }\n",
       "\n",
       "    .dataframe thead th {\n",
       "        text-align: right;\n",
       "    }\n",
       "</style>\n",
       "<table border=\"1\" class=\"dataframe\">\n",
       "  <thead>\n",
       "    <tr style=\"text-align: right;\">\n",
       "      <th></th>\n",
       "      <th>destination</th>\n",
       "      <th>passanger</th>\n",
       "      <th>weather</th>\n",
       "      <th>temperature</th>\n",
       "      <th>time</th>\n",
       "      <th>coupon</th>\n",
       "      <th>expiration</th>\n",
       "      <th>gender</th>\n",
       "      <th>age</th>\n",
       "      <th>maritalStatus</th>\n",
       "      <th>...</th>\n",
       "      <th>CoffeeHouse</th>\n",
       "      <th>CarryAway</th>\n",
       "      <th>RestaurantLessThan20</th>\n",
       "      <th>Restaurant20To50</th>\n",
       "      <th>toCoupon_GEQ5min</th>\n",
       "      <th>toCoupon_GEQ15min</th>\n",
       "      <th>toCoupon_GEQ25min</th>\n",
       "      <th>direction_same</th>\n",
       "      <th>direction_opp</th>\n",
       "      <th>Y</th>\n",
       "    </tr>\n",
       "  </thead>\n",
       "  <tbody>\n",
       "    <tr>\n",
       "      <th>0</th>\n",
       "      <td>No Urgent Place</td>\n",
       "      <td>Alone</td>\n",
       "      <td>Sunny</td>\n",
       "      <td>55</td>\n",
       "      <td>2PM</td>\n",
       "      <td>Restaurant(&lt;20)</td>\n",
       "      <td>1d</td>\n",
       "      <td>Female</td>\n",
       "      <td>21</td>\n",
       "      <td>Unmarried partner</td>\n",
       "      <td>...</td>\n",
       "      <td>never</td>\n",
       "      <td>NaN</td>\n",
       "      <td>4~8</td>\n",
       "      <td>1~3</td>\n",
       "      <td>1</td>\n",
       "      <td>0</td>\n",
       "      <td>0</td>\n",
       "      <td>0</td>\n",
       "      <td>1</td>\n",
       "      <td>1</td>\n",
       "    </tr>\n",
       "    <tr>\n",
       "      <th>1</th>\n",
       "      <td>No Urgent Place</td>\n",
       "      <td>Friend(s)</td>\n",
       "      <td>Sunny</td>\n",
       "      <td>80</td>\n",
       "      <td>10AM</td>\n",
       "      <td>Coffee House</td>\n",
       "      <td>2h</td>\n",
       "      <td>Female</td>\n",
       "      <td>21</td>\n",
       "      <td>Unmarried partner</td>\n",
       "      <td>...</td>\n",
       "      <td>never</td>\n",
       "      <td>NaN</td>\n",
       "      <td>4~8</td>\n",
       "      <td>1~3</td>\n",
       "      <td>1</td>\n",
       "      <td>0</td>\n",
       "      <td>0</td>\n",
       "      <td>0</td>\n",
       "      <td>1</td>\n",
       "      <td>0</td>\n",
       "    </tr>\n",
       "    <tr>\n",
       "      <th>2</th>\n",
       "      <td>No Urgent Place</td>\n",
       "      <td>Friend(s)</td>\n",
       "      <td>Sunny</td>\n",
       "      <td>80</td>\n",
       "      <td>10AM</td>\n",
       "      <td>Carry out &amp; Take away</td>\n",
       "      <td>2h</td>\n",
       "      <td>Female</td>\n",
       "      <td>21</td>\n",
       "      <td>Unmarried partner</td>\n",
       "      <td>...</td>\n",
       "      <td>never</td>\n",
       "      <td>NaN</td>\n",
       "      <td>4~8</td>\n",
       "      <td>1~3</td>\n",
       "      <td>1</td>\n",
       "      <td>1</td>\n",
       "      <td>0</td>\n",
       "      <td>0</td>\n",
       "      <td>1</td>\n",
       "      <td>1</td>\n",
       "    </tr>\n",
       "    <tr>\n",
       "      <th>3</th>\n",
       "      <td>No Urgent Place</td>\n",
       "      <td>Friend(s)</td>\n",
       "      <td>Sunny</td>\n",
       "      <td>80</td>\n",
       "      <td>2PM</td>\n",
       "      <td>Coffee House</td>\n",
       "      <td>2h</td>\n",
       "      <td>Female</td>\n",
       "      <td>21</td>\n",
       "      <td>Unmarried partner</td>\n",
       "      <td>...</td>\n",
       "      <td>never</td>\n",
       "      <td>NaN</td>\n",
       "      <td>4~8</td>\n",
       "      <td>1~3</td>\n",
       "      <td>1</td>\n",
       "      <td>1</td>\n",
       "      <td>0</td>\n",
       "      <td>0</td>\n",
       "      <td>1</td>\n",
       "      <td>0</td>\n",
       "    </tr>\n",
       "    <tr>\n",
       "      <th>4</th>\n",
       "      <td>No Urgent Place</td>\n",
       "      <td>Friend(s)</td>\n",
       "      <td>Sunny</td>\n",
       "      <td>80</td>\n",
       "      <td>2PM</td>\n",
       "      <td>Coffee House</td>\n",
       "      <td>1d</td>\n",
       "      <td>Female</td>\n",
       "      <td>21</td>\n",
       "      <td>Unmarried partner</td>\n",
       "      <td>...</td>\n",
       "      <td>never</td>\n",
       "      <td>NaN</td>\n",
       "      <td>4~8</td>\n",
       "      <td>1~3</td>\n",
       "      <td>1</td>\n",
       "      <td>1</td>\n",
       "      <td>0</td>\n",
       "      <td>0</td>\n",
       "      <td>1</td>\n",
       "      <td>0</td>\n",
       "    </tr>\n",
       "  </tbody>\n",
       "</table>\n",
       "<p>5 rows × 26 columns</p>\n",
       "</div>"
      ],
      "text/plain": [
       "       destination  passanger weather  temperature  time  \\\n",
       "0  No Urgent Place      Alone   Sunny           55   2PM   \n",
       "1  No Urgent Place  Friend(s)   Sunny           80  10AM   \n",
       "2  No Urgent Place  Friend(s)   Sunny           80  10AM   \n",
       "3  No Urgent Place  Friend(s)   Sunny           80   2PM   \n",
       "4  No Urgent Place  Friend(s)   Sunny           80   2PM   \n",
       "\n",
       "                  coupon expiration  gender age      maritalStatus  ...  \\\n",
       "0        Restaurant(<20)         1d  Female  21  Unmarried partner  ...   \n",
       "1           Coffee House         2h  Female  21  Unmarried partner  ...   \n",
       "2  Carry out & Take away         2h  Female  21  Unmarried partner  ...   \n",
       "3           Coffee House         2h  Female  21  Unmarried partner  ...   \n",
       "4           Coffee House         1d  Female  21  Unmarried partner  ...   \n",
       "\n",
       "   CoffeeHouse CarryAway RestaurantLessThan20 Restaurant20To50  \\\n",
       "0        never       NaN                  4~8              1~3   \n",
       "1        never       NaN                  4~8              1~3   \n",
       "2        never       NaN                  4~8              1~3   \n",
       "3        never       NaN                  4~8              1~3   \n",
       "4        never       NaN                  4~8              1~3   \n",
       "\n",
       "  toCoupon_GEQ5min toCoupon_GEQ15min toCoupon_GEQ25min direction_same  \\\n",
       "0                1                 0                 0              0   \n",
       "1                1                 0                 0              0   \n",
       "2                1                 1                 0              0   \n",
       "3                1                 1                 0              0   \n",
       "4                1                 1                 0              0   \n",
       "\n",
       "  direction_opp  Y  \n",
       "0             1  1  \n",
       "1             1  0  \n",
       "2             1  1  \n",
       "3             1  0  \n",
       "4             1  0  \n",
       "\n",
       "[5 rows x 26 columns]"
      ]
     },
     "execution_count": 20,
     "metadata": {},
     "output_type": "execute_result"
    }
   ],
   "source": [
    "df = pd.read_csv(\"vehicle-coupon-recommendation.csv\")\n",
    "df.head()"
   ]
  },
  {
   "cell_type": "code",
   "execution_count": 21,
   "id": "233263a4",
   "metadata": {},
   "outputs": [
    {
     "name": "stdout",
     "output_type": "stream",
     "text": [
      "<class 'pandas.core.frame.DataFrame'>\n",
      "RangeIndex: 12684 entries, 0 to 12683\n",
      "Data columns (total 26 columns):\n",
      " #   Column                Non-Null Count  Dtype \n",
      "---  ------                --------------  ----- \n",
      " 0   destination           12684 non-null  object\n",
      " 1   passanger             12684 non-null  object\n",
      " 2   weather               12684 non-null  object\n",
      " 3   temperature           12684 non-null  int64 \n",
      " 4   time                  12684 non-null  object\n",
      " 5   coupon                12684 non-null  object\n",
      " 6   expiration            12684 non-null  object\n",
      " 7   gender                12684 non-null  object\n",
      " 8   age                   12684 non-null  object\n",
      " 9   maritalStatus         12684 non-null  object\n",
      " 10  has_children          12684 non-null  int64 \n",
      " 11  education             12684 non-null  object\n",
      " 12  occupation            12684 non-null  object\n",
      " 13  income                12684 non-null  object\n",
      " 14  car                   108 non-null    object\n",
      " 15  Bar                   12577 non-null  object\n",
      " 16  CoffeeHouse           12467 non-null  object\n",
      " 17  CarryAway             12533 non-null  object\n",
      " 18  RestaurantLessThan20  12554 non-null  object\n",
      " 19  Restaurant20To50      12495 non-null  object\n",
      " 20  toCoupon_GEQ5min      12684 non-null  int64 \n",
      " 21  toCoupon_GEQ15min     12684 non-null  int64 \n",
      " 22  toCoupon_GEQ25min     12684 non-null  int64 \n",
      " 23  direction_same        12684 non-null  int64 \n",
      " 24  direction_opp         12684 non-null  int64 \n",
      " 25  Y                     12684 non-null  int64 \n",
      "dtypes: int64(8), object(18)\n",
      "memory usage: 2.5+ MB\n"
     ]
    }
   ],
   "source": [
    "df.info()"
   ]
  },
  {
   "cell_type": "markdown",
   "id": "a6f9286b",
   "metadata": {},
   "source": [
    "# Data preprocessing"
   ]
  },
  {
   "cell_type": "markdown",
   "id": "1d493442",
   "metadata": {},
   "source": [
    "## Variable type convert"
   ]
  },
  {
   "cell_type": "code",
   "execution_count": 22,
   "id": "07b4a992",
   "metadata": {},
   "outputs": [
    {
     "data": {
      "text/plain": [
       "count    12684.000000\n",
       "mean        63.301798\n",
       "std         19.154486\n",
       "min         30.000000\n",
       "25%         55.000000\n",
       "50%         80.000000\n",
       "75%         80.000000\n",
       "max         80.000000\n",
       "Name: temperature, dtype: float64"
      ]
     },
     "execution_count": 22,
     "metadata": {},
     "output_type": "execute_result"
    }
   ],
   "source": [
    "df[\"temperature\"].describe()"
   ]
  },
  {
   "cell_type": "code",
   "execution_count": 23,
   "id": "69872591",
   "metadata": {},
   "outputs": [
    {
     "data": {
      "text/plain": [
       "80    6528\n",
       "55    3840\n",
       "30    2316\n",
       "Name: temperature, dtype: int64"
      ]
     },
     "execution_count": 23,
     "metadata": {},
     "output_type": "execute_result"
    }
   ],
   "source": [
    "df[\"temperature\"].value_counts()"
   ]
  },
  {
   "cell_type": "code",
   "execution_count": 24,
   "id": "b96f70fd",
   "metadata": {},
   "outputs": [
    {
     "data": {
      "text/plain": [
       "0    7431\n",
       "1    5253\n",
       "Name: has_children, dtype: int64"
      ]
     },
     "execution_count": 24,
     "metadata": {},
     "output_type": "execute_result"
    }
   ],
   "source": [
    "df[\"has_children\"].value_counts()"
   ]
  },
  {
   "cell_type": "code",
   "execution_count": 25,
   "id": "b47b5099",
   "metadata": {},
   "outputs": [
    {
     "name": "stdout",
     "output_type": "stream",
     "text": [
      "<class 'pandas.core.frame.DataFrame'>\n",
      "RangeIndex: 12684 entries, 0 to 12683\n",
      "Data columns (total 26 columns):\n",
      " #   Column                Non-Null Count  Dtype   \n",
      "---  ------                --------------  -----   \n",
      " 0   destination           12684 non-null  object  \n",
      " 1   passanger             12684 non-null  object  \n",
      " 2   weather               12684 non-null  object  \n",
      " 3   temperature           12684 non-null  category\n",
      " 4   time                  12684 non-null  object  \n",
      " 5   coupon                12684 non-null  object  \n",
      " 6   expiration            12684 non-null  object  \n",
      " 7   gender                12684 non-null  object  \n",
      " 8   age                   12684 non-null  object  \n",
      " 9   maritalStatus         12684 non-null  object  \n",
      " 10  has_children          12684 non-null  category\n",
      " 11  education             12684 non-null  object  \n",
      " 12  occupation            12684 non-null  object  \n",
      " 13  income                12684 non-null  object  \n",
      " 14  car                   108 non-null    object  \n",
      " 15  Bar                   12577 non-null  object  \n",
      " 16  CoffeeHouse           12467 non-null  object  \n",
      " 17  CarryAway             12533 non-null  object  \n",
      " 18  RestaurantLessThan20  12554 non-null  object  \n",
      " 19  Restaurant20To50      12495 non-null  object  \n",
      " 20  toCoupon_GEQ5min      12684 non-null  category\n",
      " 21  toCoupon_GEQ15min     12684 non-null  category\n",
      " 22  toCoupon_GEQ25min     12684 non-null  category\n",
      " 23  direction_same        12684 non-null  category\n",
      " 24  direction_opp         12684 non-null  int64   \n",
      " 25  Y                     12684 non-null  category\n",
      "dtypes: category(7), int64(1), object(18)\n",
      "memory usage: 1.9+ MB\n"
     ]
    }
   ],
   "source": [
    "# convert numeric variables to category\n",
    "df[\"temperature\"] = df[\"temperature\"].astype(\"category\")\n",
    "df[\"has_children\"] = df[\"has_children\"].astype(\"category\")\n",
    "df[\"toCoupon_GEQ5min\"] = df[\"toCoupon_GEQ5min\"].astype(\"category\")\n",
    "df[\"toCoupon_GEQ15min\"] = df[\"toCoupon_GEQ15min\"].astype(\"category\")\n",
    "df[\"toCoupon_GEQ25min\"] = df[\"toCoupon_GEQ25min\"].astype(\"category\")\n",
    "df[\"direction_same\"] = df[\"direction_same\"].astype(\"category\")\n",
    "\n",
    "df[\"Y\"] = df[\"Y\"].astype(\"category\")\n",
    "df.info()"
   ]
  },
  {
   "cell_type": "markdown",
   "id": "7c76edd3",
   "metadata": {},
   "source": [
    "## Missing value correct"
   ]
  },
  {
   "cell_type": "code",
   "execution_count": 26,
   "id": "20023c85",
   "metadata": {},
   "outputs": [
    {
     "name": "stdout",
     "output_type": "stream",
     "text": [
      "<class 'pandas.core.frame.DataFrame'>\n",
      "RangeIndex: 12684 entries, 0 to 12683\n",
      "Data columns (total 24 columns):\n",
      " #   Column                Non-Null Count  Dtype   \n",
      "---  ------                --------------  -----   \n",
      " 0   destination           12684 non-null  object  \n",
      " 1   passanger             12684 non-null  object  \n",
      " 2   weather               12684 non-null  object  \n",
      " 3   temperature           12684 non-null  category\n",
      " 4   time                  12684 non-null  object  \n",
      " 5   coupon                12684 non-null  object  \n",
      " 6   expiration            12684 non-null  object  \n",
      " 7   gender                12684 non-null  object  \n",
      " 8   age                   12684 non-null  object  \n",
      " 9   maritalStatus         12684 non-null  object  \n",
      " 10  has_children          12684 non-null  category\n",
      " 11  education             12684 non-null  object  \n",
      " 12  occupation            12684 non-null  object  \n",
      " 13  income                12684 non-null  object  \n",
      " 14  Bar                   12577 non-null  object  \n",
      " 15  CoffeeHouse           12467 non-null  object  \n",
      " 16  CarryAway             12533 non-null  object  \n",
      " 17  RestaurantLessThan20  12554 non-null  object  \n",
      " 18  Restaurant20To50      12495 non-null  object  \n",
      " 19  toCoupon_GEQ5min      12684 non-null  category\n",
      " 20  toCoupon_GEQ15min     12684 non-null  category\n",
      " 21  toCoupon_GEQ25min     12684 non-null  category\n",
      " 22  direction_same        12684 non-null  category\n",
      " 23  Y                     12684 non-null  category\n",
      "dtypes: category(7), object(17)\n",
      "memory usage: 1.7+ MB\n"
     ]
    }
   ],
   "source": [
    "df.drop(columns=[\"car\", \"direction_opp\"], axis=1, inplace=True)\n",
    "# car: too many missing values\n",
    "# direction_opp: same as direction_same\n",
    "df.info()"
   ]
  },
  {
   "cell_type": "code",
   "execution_count": 27,
   "id": "c98159bf",
   "metadata": {},
   "outputs": [
    {
     "name": "stdout",
     "output_type": "stream",
     "text": [
      "<class 'pandas.core.frame.DataFrame'>\n",
      "Int64Index: 12079 entries, 22 to 12683\n",
      "Data columns (total 24 columns):\n",
      " #   Column                Non-Null Count  Dtype   \n",
      "---  ------                --------------  -----   \n",
      " 0   destination           12079 non-null  object  \n",
      " 1   passanger             12079 non-null  object  \n",
      " 2   weather               12079 non-null  object  \n",
      " 3   temperature           12079 non-null  category\n",
      " 4   time                  12079 non-null  object  \n",
      " 5   coupon                12079 non-null  object  \n",
      " 6   expiration            12079 non-null  object  \n",
      " 7   gender                12079 non-null  object  \n",
      " 8   age                   12079 non-null  object  \n",
      " 9   maritalStatus         12079 non-null  object  \n",
      " 10  has_children          12079 non-null  category\n",
      " 11  education             12079 non-null  object  \n",
      " 12  occupation            12079 non-null  object  \n",
      " 13  income                12079 non-null  object  \n",
      " 14  Bar                   12079 non-null  object  \n",
      " 15  CoffeeHouse           12079 non-null  object  \n",
      " 16  CarryAway             12079 non-null  object  \n",
      " 17  RestaurantLessThan20  12079 non-null  object  \n",
      " 18  Restaurant20To50      12079 non-null  object  \n",
      " 19  toCoupon_GEQ5min      12079 non-null  category\n",
      " 20  toCoupon_GEQ15min     12079 non-null  category\n",
      " 21  toCoupon_GEQ25min     12079 non-null  category\n",
      " 22  direction_same        12079 non-null  category\n",
      " 23  Y                     12079 non-null  category\n",
      "dtypes: category(7), object(17)\n",
      "memory usage: 1.7+ MB\n"
     ]
    }
   ],
   "source": [
    "df = df.dropna() # it's ok to just drop rows with missing values\n",
    "df.info()"
   ]
  },
  {
   "cell_type": "markdown",
   "id": "cdc524ab",
   "metadata": {},
   "source": [
    "## Feature engineering"
   ]
  },
  {
   "cell_type": "code",
   "execution_count": 28,
   "id": "056cbbaf",
   "metadata": {},
   "outputs": [
    {
     "name": "stdout",
     "output_type": "stream",
     "text": [
      "<class 'pandas.core.frame.DataFrame'>\n",
      "Int64Index: 12079 entries, 22 to 12683\n",
      "Data columns (total 22 columns):\n",
      " #   Column                Non-Null Count  Dtype   \n",
      "---  ------                --------------  -----   \n",
      " 0   destination           12079 non-null  object  \n",
      " 1   passanger             12079 non-null  object  \n",
      " 2   weather               12079 non-null  object  \n",
      " 3   temperature           12079 non-null  category\n",
      " 4   time                  12079 non-null  object  \n",
      " 5   coupon                12079 non-null  object  \n",
      " 6   expiration            12079 non-null  object  \n",
      " 7   gender                12079 non-null  object  \n",
      " 8   age                   12079 non-null  object  \n",
      " 9   maritalStatus         12079 non-null  object  \n",
      " 10  has_children          12079 non-null  category\n",
      " 11  education             12079 non-null  object  \n",
      " 12  occupation            12079 non-null  object  \n",
      " 13  income                12079 non-null  object  \n",
      " 14  Bar                   12079 non-null  object  \n",
      " 15  CoffeeHouse           12079 non-null  object  \n",
      " 16  CarryAway             12079 non-null  object  \n",
      " 17  RestaurantLessThan20  12079 non-null  object  \n",
      " 18  Restaurant20To50      12079 non-null  object  \n",
      " 19  direction_same        12079 non-null  category\n",
      " 20  Y                     12079 non-null  category\n",
      " 21  to_Coupon             12079 non-null  object  \n",
      "dtypes: category(4), object(18)\n",
      "memory usage: 1.8+ MB\n"
     ]
    }
   ],
   "source": [
    "## combine toCoupon_GEQ5min, 15min, 25min to one \n",
    "\n",
    "# create a function to define the new column values based on conditions\n",
    "def get_toCoupon(row):\n",
    "    if (row[\"toCoupon_GEQ5min\"]==1) & (row[\"toCoupon_GEQ15min\"]==0) & (row[\"toCoupon_GEQ25min\"]==0):\n",
    "        return \"5-15\"\n",
    "    elif (row[\"toCoupon_GEQ5min\"]==1) & (row[\"toCoupon_GEQ15min\"]==1) & (row[\"toCoupon_GEQ25min\"]==0):\n",
    "        return \"15-25\"\n",
    "    else: \n",
    "        return \">25\"\n",
    "\n",
    "df[\"to_Coupon\"] = df.apply(get_toCoupon, axis=1)\n",
    "df = df.drop(columns=[\"toCoupon_GEQ5min\", \"toCoupon_GEQ15min\", \"toCoupon_GEQ25min\"], axis=1)\n",
    "df.info()"
   ]
  },
  {
   "cell_type": "code",
   "execution_count": 29,
   "id": "cd12fc33",
   "metadata": {},
   "outputs": [
    {
     "name": "stdout",
     "output_type": "stream",
     "text": [
      "<class 'pandas.core.frame.DataFrame'>\n",
      "Int64Index: 12079 entries, 22 to 12683\n",
      "Data columns (total 22 columns):\n",
      " #   Column                Non-Null Count  Dtype   \n",
      "---  ------                --------------  -----   \n",
      " 0   destination           12079 non-null  object  \n",
      " 1   passanger             12079 non-null  object  \n",
      " 2   weather               12079 non-null  object  \n",
      " 3   temperature           12079 non-null  category\n",
      " 4   time                  12079 non-null  object  \n",
      " 5   coupon                12079 non-null  object  \n",
      " 6   expiration            12079 non-null  object  \n",
      " 7   gender                12079 non-null  object  \n",
      " 8   age                   12079 non-null  object  \n",
      " 9   maritalStatus         12079 non-null  object  \n",
      " 10  has_children          12079 non-null  category\n",
      " 11  education             12079 non-null  object  \n",
      " 12  occupation            12079 non-null  object  \n",
      " 13  income                12079 non-null  object  \n",
      " 14  Bar                   12079 non-null  object  \n",
      " 15  CoffeeHouse           12079 non-null  object  \n",
      " 16  CarryAway             12079 non-null  object  \n",
      " 17  RestaurantLessThan20  12079 non-null  object  \n",
      " 18  Restaurant20To50      12079 non-null  object  \n",
      " 19  direction_same        12079 non-null  category\n",
      " 20  to_Coupon             12079 non-null  object  \n",
      " 21  Y                     12079 non-null  category\n",
      "dtypes: category(4), object(18)\n",
      "memory usage: 1.8+ MB\n"
     ]
    }
   ],
   "source": [
    "# move Y to the most right \n",
    "Y = df.pop('Y')\n",
    "df.insert(len(df.columns), 'Y', Y)\n",
    "df.info()"
   ]
  },
  {
   "cell_type": "markdown",
   "id": "6ea63231",
   "metadata": {},
   "source": [
    "# Output"
   ]
  },
  {
   "cell_type": "code",
   "execution_count": 30,
   "id": "7995b778",
   "metadata": {},
   "outputs": [],
   "source": [
    "df.to_csv(\"VCR_clean_real.csv\", index=False)"
   ]
  }
 ],
 "metadata": {
  "kernelspec": {
   "display_name": "Python 3 (ipykernel)",
   "language": "python",
   "name": "python3"
  },
  "language_info": {
   "codemirror_mode": {
    "name": "ipython",
    "version": 3
   },
   "file_extension": ".py",
   "mimetype": "text/x-python",
   "name": "python",
   "nbconvert_exporter": "python",
   "pygments_lexer": "ipython3",
   "version": "3.9.12"
  }
 },
 "nbformat": 4,
 "nbformat_minor": 5
}
